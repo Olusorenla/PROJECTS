{
  "nbformat": 4,
  "nbformat_minor": 0,
  "metadata": {
    "colab": {
      "provenance": []
    },
    "kernelspec": {
      "name": "python3",
      "display_name": "Python 3"
    },
    "language_info": {
      "name": "python"
    },
    "gpuClass": "standard"
  },
  "cells": [
    {
      "cell_type": "markdown",
      "source": [
        "In this code, we first import the SpeechRecognition library. We then create a recognizer object r.\n",
        "\n"
      ],
      "metadata": {
        "id": "11zxSRoFfrYb"
      }
    },
    {
      "cell_type": "code",
      "source": [
        "!pip install SpeechRecognition\n",
        "import speech_recognition as sr\n",
        "\n",
        "# create a recognizer object\n",
        "r = sr.Recognizer()\n",
        "\n",
        "from google.colab import files"
      ],
      "metadata": {
        "colab": {
          "base_uri": "https://localhost:8080/"
        },
        "id": "eaaMsUhF1fG0",
        "outputId": "7e7ed663-29c3-4140-cf3b-36d99f5b2cb8"
      },
      "execution_count": null,
      "outputs": [
        {
          "output_type": "stream",
          "name": "stdout",
          "text": [
            "Looking in indexes: https://pypi.org/simple, https://us-python.pkg.dev/colab-wheels/public/simple/\n",
            "Collecting SpeechRecognition\n",
            "  Downloading SpeechRecognition-3.10.0-py2.py3-none-any.whl (32.8 MB)\n",
            "\u001b[2K     \u001b[90m━━━━━━━━━━━━━━━━━━━━━━━━━━━━━━━━━━━━━━━━\u001b[0m \u001b[32m32.8/32.8 MB\u001b[0m \u001b[31m19.8 MB/s\u001b[0m eta \u001b[36m0:00:00\u001b[0m\n",
            "\u001b[?25hRequirement already satisfied: requests>=2.26.0 in /usr/local/lib/python3.9/dist-packages (from SpeechRecognition) (2.27.1)\n",
            "Requirement already satisfied: urllib3<1.27,>=1.21.1 in /usr/local/lib/python3.9/dist-packages (from requests>=2.26.0->SpeechRecognition) (1.26.15)\n",
            "Requirement already satisfied: idna<4,>=2.5 in /usr/local/lib/python3.9/dist-packages (from requests>=2.26.0->SpeechRecognition) (3.4)\n",
            "Requirement already satisfied: certifi>=2017.4.17 in /usr/local/lib/python3.9/dist-packages (from requests>=2.26.0->SpeechRecognition) (2022.12.7)\n",
            "Requirement already satisfied: charset-normalizer~=2.0.0 in /usr/local/lib/python3.9/dist-packages (from requests>=2.26.0->SpeechRecognition) (2.0.12)\n",
            "Installing collected packages: SpeechRecognition\n",
            "Successfully installed SpeechRecognition-3.10.0\n"
          ]
        }
      ]
    },
    {
      "cell_type": "code",
      "execution_count": null,
      "metadata": {
        "colab": {
          "base_uri": "https://localhost:8080/",
          "height": 90
        },
        "id": "AWlaMZuyXFoB",
        "outputId": "4a1fc58f-a65d-4171-9f05-e8cbbf1638fb"
      },
      "outputs": [
        {
          "output_type": "display_data",
          "data": {
            "text/plain": [
              "<IPython.core.display.HTML object>"
            ],
            "text/html": [
              "\n",
              "     <input type=\"file\" id=\"files-ed391df9-b56d-4a3f-8f49-a9b124aa55b9\" name=\"files[]\" multiple disabled\n",
              "        style=\"border:none\" />\n",
              "     <output id=\"result-ed391df9-b56d-4a3f-8f49-a9b124aa55b9\">\n",
              "      Upload widget is only available when the cell has been executed in the\n",
              "      current browser session. Please rerun this cell to enable.\n",
              "      </output>\n",
              "      <script>// Copyright 2017 Google LLC\n",
              "//\n",
              "// Licensed under the Apache License, Version 2.0 (the \"License\");\n",
              "// you may not use this file except in compliance with the License.\n",
              "// You may obtain a copy of the License at\n",
              "//\n",
              "//      http://www.apache.org/licenses/LICENSE-2.0\n",
              "//\n",
              "// Unless required by applicable law or agreed to in writing, software\n",
              "// distributed under the License is distributed on an \"AS IS\" BASIS,\n",
              "// WITHOUT WARRANTIES OR CONDITIONS OF ANY KIND, either express or implied.\n",
              "// See the License for the specific language governing permissions and\n",
              "// limitations under the License.\n",
              "\n",
              "/**\n",
              " * @fileoverview Helpers for google.colab Python module.\n",
              " */\n",
              "(function(scope) {\n",
              "function span(text, styleAttributes = {}) {\n",
              "  const element = document.createElement('span');\n",
              "  element.textContent = text;\n",
              "  for (const key of Object.keys(styleAttributes)) {\n",
              "    element.style[key] = styleAttributes[key];\n",
              "  }\n",
              "  return element;\n",
              "}\n",
              "\n",
              "// Max number of bytes which will be uploaded at a time.\n",
              "const MAX_PAYLOAD_SIZE = 100 * 1024;\n",
              "\n",
              "function _uploadFiles(inputId, outputId) {\n",
              "  const steps = uploadFilesStep(inputId, outputId);\n",
              "  const outputElement = document.getElementById(outputId);\n",
              "  // Cache steps on the outputElement to make it available for the next call\n",
              "  // to uploadFilesContinue from Python.\n",
              "  outputElement.steps = steps;\n",
              "\n",
              "  return _uploadFilesContinue(outputId);\n",
              "}\n",
              "\n",
              "// This is roughly an async generator (not supported in the browser yet),\n",
              "// where there are multiple asynchronous steps and the Python side is going\n",
              "// to poll for completion of each step.\n",
              "// This uses a Promise to block the python side on completion of each step,\n",
              "// then passes the result of the previous step as the input to the next step.\n",
              "function _uploadFilesContinue(outputId) {\n",
              "  const outputElement = document.getElementById(outputId);\n",
              "  const steps = outputElement.steps;\n",
              "\n",
              "  const next = steps.next(outputElement.lastPromiseValue);\n",
              "  return Promise.resolve(next.value.promise).then((value) => {\n",
              "    // Cache the last promise value to make it available to the next\n",
              "    // step of the generator.\n",
              "    outputElement.lastPromiseValue = value;\n",
              "    return next.value.response;\n",
              "  });\n",
              "}\n",
              "\n",
              "/**\n",
              " * Generator function which is called between each async step of the upload\n",
              " * process.\n",
              " * @param {string} inputId Element ID of the input file picker element.\n",
              " * @param {string} outputId Element ID of the output display.\n",
              " * @return {!Iterable<!Object>} Iterable of next steps.\n",
              " */\n",
              "function* uploadFilesStep(inputId, outputId) {\n",
              "  const inputElement = document.getElementById(inputId);\n",
              "  inputElement.disabled = false;\n",
              "\n",
              "  const outputElement = document.getElementById(outputId);\n",
              "  outputElement.innerHTML = '';\n",
              "\n",
              "  const pickedPromise = new Promise((resolve) => {\n",
              "    inputElement.addEventListener('change', (e) => {\n",
              "      resolve(e.target.files);\n",
              "    });\n",
              "  });\n",
              "\n",
              "  const cancel = document.createElement('button');\n",
              "  inputElement.parentElement.appendChild(cancel);\n",
              "  cancel.textContent = 'Cancel upload';\n",
              "  const cancelPromise = new Promise((resolve) => {\n",
              "    cancel.onclick = () => {\n",
              "      resolve(null);\n",
              "    };\n",
              "  });\n",
              "\n",
              "  // Wait for the user to pick the files.\n",
              "  const files = yield {\n",
              "    promise: Promise.race([pickedPromise, cancelPromise]),\n",
              "    response: {\n",
              "      action: 'starting',\n",
              "    }\n",
              "  };\n",
              "\n",
              "  cancel.remove();\n",
              "\n",
              "  // Disable the input element since further picks are not allowed.\n",
              "  inputElement.disabled = true;\n",
              "\n",
              "  if (!files) {\n",
              "    return {\n",
              "      response: {\n",
              "        action: 'complete',\n",
              "      }\n",
              "    };\n",
              "  }\n",
              "\n",
              "  for (const file of files) {\n",
              "    const li = document.createElement('li');\n",
              "    li.append(span(file.name, {fontWeight: 'bold'}));\n",
              "    li.append(span(\n",
              "        `(${file.type || 'n/a'}) - ${file.size} bytes, ` +\n",
              "        `last modified: ${\n",
              "            file.lastModifiedDate ? file.lastModifiedDate.toLocaleDateString() :\n",
              "                                    'n/a'} - `));\n",
              "    const percent = span('0% done');\n",
              "    li.appendChild(percent);\n",
              "\n",
              "    outputElement.appendChild(li);\n",
              "\n",
              "    const fileDataPromise = new Promise((resolve) => {\n",
              "      const reader = new FileReader();\n",
              "      reader.onload = (e) => {\n",
              "        resolve(e.target.result);\n",
              "      };\n",
              "      reader.readAsArrayBuffer(file);\n",
              "    });\n",
              "    // Wait for the data to be ready.\n",
              "    let fileData = yield {\n",
              "      promise: fileDataPromise,\n",
              "      response: {\n",
              "        action: 'continue',\n",
              "      }\n",
              "    };\n",
              "\n",
              "    // Use a chunked sending to avoid message size limits. See b/62115660.\n",
              "    let position = 0;\n",
              "    do {\n",
              "      const length = Math.min(fileData.byteLength - position, MAX_PAYLOAD_SIZE);\n",
              "      const chunk = new Uint8Array(fileData, position, length);\n",
              "      position += length;\n",
              "\n",
              "      const base64 = btoa(String.fromCharCode.apply(null, chunk));\n",
              "      yield {\n",
              "        response: {\n",
              "          action: 'append',\n",
              "          file: file.name,\n",
              "          data: base64,\n",
              "        },\n",
              "      };\n",
              "\n",
              "      let percentDone = fileData.byteLength === 0 ?\n",
              "          100 :\n",
              "          Math.round((position / fileData.byteLength) * 100);\n",
              "      percent.textContent = `${percentDone}% done`;\n",
              "\n",
              "    } while (position < fileData.byteLength);\n",
              "  }\n",
              "\n",
              "  // All done.\n",
              "  yield {\n",
              "    response: {\n",
              "      action: 'complete',\n",
              "    }\n",
              "  };\n",
              "}\n",
              "\n",
              "scope.google = scope.google || {};\n",
              "scope.google.colab = scope.google.colab || {};\n",
              "scope.google.colab._files = {\n",
              "  _uploadFiles,\n",
              "  _uploadFilesContinue,\n",
              "};\n",
              "})(self);\n",
              "</script> "
            ]
          },
          "metadata": {}
        },
        {
          "output_type": "stream",
          "name": "stdout",
          "text": [
            "Saving Fairbanks St.wav to Fairbanks St.wav\n",
            "Transcription for Fairbanks St.wav: hi can I get the simply Canadian bacon sandwich and I'd like a vanilla coconuts cappuccino and two pieces of cookies please thank you\n"
          ]
        }
      ],
      "source": [
        "import speech_recognition as sr\n",
        "from google.colab import files\n",
        "\n",
        "# upload a file\n",
        "uploaded = files.upload()\n",
        "\n",
        "# transcribe each audio file\n",
        "for file_name in uploaded.keys():\n",
        "  # load the audio file\n",
        "  with sr.AudioFile(file_name) as source:\n",
        "    audio = r.record(source)\n",
        "\n",
        "  # transcribe the audio\n",
        "  try:\n",
        "    text = r.recognize_google(audio, language='en-US')\n",
        "    print(f'Transcription for {file_name}: {text}')\n",
        "  except sr.UnknownValueError:\n",
        "    print(f'Speech recognition could not understand {file_name}')\n",
        "  except sr.RequestError as e:\n",
        "    print(f'Request error from Google Speech Recognition API: {e}')\n",
        "\n",
        "\n"
      ]
    },
    {
      "cell_type": "markdown",
      "source": [
        "We loop through each of the uploaded audio files using the uploaded.keys() function. Inside the loop, we use the sr.AudioFile() function to load each audio file, and then use the record() function of the Recognizer object to record the audio data.\n",
        "\n",
        "Next, we call the recognize_google() method of the Recognizer object to transcribe the audio data to text using Google's speech recognition API. We set the language to English (US) using the language parameter.\n",
        "\n",
        "Finally, we print the transcription or error messages for each file."
      ],
      "metadata": {
        "id": "UYcS9qfJWFC5"
      }
    },
    {
      "cell_type": "code",
      "source": [
        "# Import necessary libraries\n",
        "import pandas as pd\n",
        "from sklearn.neural_network import MLPClassifier\n",
        "from sklearn.feature_extraction.text import CountVectorizer\n",
        "\n",
        "# Define the categories\n",
        "categories = {\n",
        "    'hot_beverages': ['Vanilla Coconut Latte', 'Vanilla Coconut Cappuccino', 'Latte', 'Americano', 'Brewed Coffee', 'Steaped Tea', 'Espresso'],\n",
        "    'cold_beverages': ['Vanilla Coconut Cold Brew with Espresso Infused', 'Iced Coffee', 'Roasted Hazelnut Cold Brew With Espresso Infused', 'Strawberry Watermelon', 'Peach Quenchers', 'Classic Lemonade Quenchers'],\n",
        "    'breakfast': ['Canadian Bacon & Egg Breakfast Sandwich', 'Canadian Bacon Belt', 'Simply Canadian Bacon Sandwich', 'Simply Sausage Sandwich', 'Steak & Egg Breakfast Sandwich', 'Sausage Breakfast Sandwich', 'Bacon Breakfast Sandwich', 'Egg & Cheese Breakfast Sandwich', 'Grilled Breakfast Wrap', 'Bagel Belt'],\n",
        "    'donuts_and_timbits': ['Assorted Donuts', 'Timbits', 'Assorted Timbits'],\n",
        "    'baked_goods': ['Savoury Pastries', 'Muffins', 'Croissants', 'Cookies'],\n",
        "    'bagels': ['Plain Bagel', 'Everything Bagel', 'Four Cheese Bagel', 'Assorter Bagels', 'Grain Bagel']\n",
        "}\n",
        "\n",
        "# Load the data into a pandas DataFrame\n",
        "data = []\n",
        "for category, items in categories.items():\n",
        "  for item in items:\n",
        "    data.append((item, category))\n",
        "df = pd.DataFrame(data, columns=['MENU ITEM', 'CATEGORY'])\n",
        "\n",
        "# Transform the input data using CountVectorizer\n",
        "vectorizer = CountVectorizer()\n",
        "X_train = vectorizer.fit_transform(df['MENU ITEM'])\n",
        "y_train = df['CATEGORY']\n",
        "\n",
        "# Train the MLPClassifier model\n",
        "clf = MLPClassifier(hidden_layer_sizes=(50,), max_iter=500, activation='relu', solver='adam', random_state=1)\n",
        "clf.fit(X_train, y_train)\n",
        "\n",
        "def classify_text(text):\n",
        "  items = text.split(' and ')\n",
        "  categories = []\n",
        "  for item in items:\n",
        "    vectorized_text = vectorizer.transform([item])\n",
        "    category = clf.predict(vectorized_text)[0]\n",
        "    categories.append(category)\n",
        "  return categories\n",
        "\n",
        "# Test the model with some sample text\n",
        "text = r.recognize_google(audio, language='en-US')\n",
        "categories = classify_text(text)\n",
        "print(categories)\n",
        "\n",
        "\n"
      ],
      "metadata": {
        "colab": {
          "base_uri": "https://localhost:8080/"
        },
        "id": "l4seOZ0TErPk",
        "outputId": "28f2a943-6a59-45d2-be4b-b349674c3a50"
      },
      "execution_count": null,
      "outputs": [
        {
          "output_type": "stream",
          "name": "stdout",
          "text": [
            "['breakfast', 'hot_beverages', 'baked_goods']\n"
          ]
        }
      ]
    },
    {
      "cell_type": "markdown",
      "source": [
        "This code is a text classification model that uses the MLPClassifier from the scikit-learn library to classify menu items into categories such as hot beverages, cold beverages, breakfast items, etc. The model uses CountVectorizer to transform the text data into numerical data that the MLPClassifier can use.\n",
        "\n",
        "The code first defines a dictionary of categories and their corresponding items. Then, the items are loaded into a pandas DataFrame, with the category as the target variable.\n",
        "\n",
        "Next, the CountVectorizer is used to transform the input data into numerical data, which is then used to train the MLPClassifier model. The model is initialized with several hyperparameters, such as the number of hidden layers and the maximum number of iterations.\n",
        "\n",
        "Finally, the model is tested with some sample text, which is passed through the classify_text() function. This function splits the input text into individual items and uses the trained model to classify each item into a category. The predicted categories are then returned.\n",
        "\n",
        "\n",
        "\n",
        "\n",
        "\n"
      ],
      "metadata": {
        "id": "EwyQm3FqWSrC"
      }
    }
  ]
}